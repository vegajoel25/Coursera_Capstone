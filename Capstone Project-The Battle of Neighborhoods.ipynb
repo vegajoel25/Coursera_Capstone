{
 "cells": [
  {
   "cell_type": "markdown",
   "metadata": {},
   "source": [
    "# Capstone Project - The Battle of Neighborhoods"
   ]
  },
  {
   "cell_type": "markdown",
   "metadata": {},
   "source": [
    "## Introduction/Business Problem\n",
    "\n",
    "The city of Toronto will be used to determine where to recommend to open a restaurant for someone looking to create a major impact and have the best chances at getting a profitable business up and running.\n",
    "\n",
    "Opening restaurants is a high risk business where only a few can survive and location matters the most at the time of deciding where to open up to clients."
   ]
  },
  {
   "cell_type": "markdown",
   "metadata": {},
   "source": [
    "## Data\n",
    "\n",
    "The data to be used to determine the best place to open a restaurant will be build from the information derived in Week 3 of this course. A list of postal codes from Canada will be obtained from Wikipedia. This information will give us the postal codes, boroughs, and neighborhoods. This information will be paired with the latitude and longitude coordinates listed in a separate file matching each individual borough. Then, the boroughs specifically located in Toronto will be selected. This information will be usefull for later identifying all the venues in each borough. The venues with the least number of restaurants will be identified as the best places for opening up a new place."
   ]
  },
  {
   "cell_type": "code",
   "execution_count": null,
   "metadata": {},
   "outputs": [],
   "source": []
  }
 ],
 "metadata": {
  "kernelspec": {
   "display_name": "Python",
   "language": "python",
   "name": "conda-env-python-py"
  },
  "language_info": {
   "codemirror_mode": {
    "name": "ipython",
    "version": 3
   },
   "file_extension": ".py",
   "mimetype": "text/x-python",
   "name": "python",
   "nbconvert_exporter": "python",
   "pygments_lexer": "ipython3",
   "version": "3.6.10"
  }
 },
 "nbformat": 4,
 "nbformat_minor": 4
}
